{
 "cells": [
  {
   "cell_type": "code",
   "execution_count": 2,
   "metadata": {},
   "outputs": [
    {
     "name": "stdout",
     "output_type": "stream",
     "text": [
      "greater\n",
      "done\n"
     ]
    }
   ],
   "source": [
    "num = 200\n",
    "if num > 100:\n",
    "    print('greater')\n",
    "else:\n",
    "    print('not greater')\n",
    "print('done')"
   ]
  },
  {
   "cell_type": "code",
   "execution_count": 4,
   "metadata": {},
   "outputs": [
    {
     "name": "stdout",
     "output_type": "stream",
     "text": [
      "before conditional ...\n",
      "200 is greater than 100\n",
      "... after conditional\n"
     ]
    }
   ],
   "source": [
    "num = 200\n",
    "print('before conditional ...')\n",
    "if num > 100:\n",
    "    print(num, 'is greater than 100')\n",
    "print('... after conditional')"
   ]
  },
  {
   "cell_type": "code",
   "execution_count": 6,
   "metadata": {},
   "outputs": [
    {
     "name": "stdout",
     "output_type": "stream",
     "text": [
      "School does not start with s\n"
     ]
    }
   ],
   "source": [
    "# Exercise\n",
    "# Can you write a if-clause checking if the first\n",
    "# letter of one string is 's'?\n",
    "# Tip: To check if two values are equal you must use ==\n",
    "word = 'School'\n",
    "if word[0] == 's':\n",
    "    print(word, 'stars with s')\n",
    "else:\n",
    "    print(word, 'does not start with s')"
   ]
  },
  {
   "cell_type": "code",
   "execution_count": 8,
   "metadata": {},
   "outputs": [
    {
     "data": {
      "text/plain": [
       "True"
      ]
     },
     "execution_count": 8,
     "metadata": {},
     "output_type": "execute_result"
    }
   ],
   "source": [
    "word = 'school'\n",
    "word.startswith('s')"
   ]
  },
  {
   "cell_type": "code",
   "execution_count": 10,
   "metadata": {},
   "outputs": [
    {
     "data": {
      "text/plain": [
       "False"
      ]
     },
     "execution_count": 10,
     "metadata": {},
     "output_type": "execute_result"
    }
   ],
   "source": [
    "word = 'School'\n",
    "word.startswith('s')"
   ]
  },
  {
   "cell_type": "code",
   "execution_count": 11,
   "metadata": {},
   "outputs": [
    {
     "name": "stdout",
     "output_type": "stream",
     "text": [
      "school stars with s\n"
     ]
    }
   ],
   "source": [
    "word = 'school'\n",
    "if word.startswith('s'):\n",
    "    print(word, 'stars with s')\n",
    "else:\n",
    "    print(word, 'does not start with s')"
   ]
  },
  {
   "cell_type": "code",
   "execution_count": 12,
   "metadata": {},
   "outputs": [
    {
     "data": {
      "text/plain": [
       "True"
      ]
     },
     "execution_count": 12,
     "metadata": {},
     "output_type": "execute_result"
    }
   ],
   "source": [
    "1 == 1"
   ]
  },
  {
   "cell_type": "code",
   "execution_count": 13,
   "metadata": {},
   "outputs": [
    {
     "data": {
      "text/plain": [
       "False"
      ]
     },
     "execution_count": 13,
     "metadata": {},
     "output_type": "execute_result"
    }
   ],
   "source": [
    "1 == '1'"
   ]
  },
  {
   "cell_type": "code",
   "execution_count": 14,
   "metadata": {},
   "outputs": [
    {
     "data": {
      "text/plain": [
       "True"
      ]
     },
     "execution_count": 14,
     "metadata": {},
     "output_type": "execute_result"
    }
   ],
   "source": [
    "1 != '1'  # Checking if elements are different"
   ]
  },
  {
   "cell_type": "code",
   "execution_count": 15,
   "metadata": {},
   "outputs": [
    {
     "data": {
      "text/plain": [
       "True"
      ]
     },
     "execution_count": 15,
     "metadata": {},
     "output_type": "execute_result"
    }
   ],
   "source": [
    "10 > 9"
   ]
  },
  {
   "cell_type": "code",
   "execution_count": 16,
   "metadata": {},
   "outputs": [
    {
     "data": {
      "text/plain": [
       "True"
      ]
     },
     "execution_count": 16,
     "metadata": {},
     "output_type": "execute_result"
    }
   ],
   "source": [
    "10 >= 10"
   ]
  },
  {
   "cell_type": "code",
   "execution_count": 17,
   "metadata": {},
   "outputs": [
    {
     "data": {
      "text/plain": [
       "False"
      ]
     },
     "execution_count": 17,
     "metadata": {},
     "output_type": "execute_result"
    }
   ],
   "source": [
    "10 < 9 "
   ]
  },
  {
   "cell_type": "code",
   "execution_count": 18,
   "metadata": {},
   "outputs": [
    {
     "data": {
      "text/plain": [
       "False"
      ]
     },
     "execution_count": 18,
     "metadata": {},
     "output_type": "execute_result"
    }
   ],
   "source": [
    "10 <= 9"
   ]
  },
  {
   "cell_type": "code",
   "execution_count": 19,
   "metadata": {},
   "outputs": [],
   "source": [
    "# == for check if elements are equal\n",
    "# != for check if elements are different\n",
    "# > for check if the first element is greater than the second\n",
    "# >= for check if the first element is greater than or equal the second\n",
    "# < for check if the first element is less than the second\n",
    "# <= for check if the first element is less than or equal the second"
   ]
  },
  {
   "cell_type": "code",
   "execution_count": null,
   "metadata": {},
   "outputs": [],
   "source": [
    "if something:\n",
    "    print()\n",
    "elif something:\n",
    "    print()\n",
    "else:\n",
    "    print()\n",
    "        "
   ]
  },
  {
   "cell_type": "code",
   "execution_count": 20,
   "metadata": {},
   "outputs": [
    {
     "name": "stdout",
     "output_type": "stream",
     "text": [
      "-3 is negative\n"
     ]
    }
   ],
   "source": [
    "num = -3\n",
    "\n",
    "if num > 0:\n",
    "    print(num, \"is positive\")\n",
    "elif num == 0:\n",
    "    print(num, 'is zero')\n",
    "else:\n",
    "    print(num, 'is negative')"
   ]
  },
  {
   "cell_type": "code",
   "execution_count": 22,
   "metadata": {},
   "outputs": [],
   "source": [
    "# Exercise\n",
    "# Write a if-clause that check if one word starts with\n",
    "# a, e, i, o, u and print the letter that it starts with."
   ]
  },
  {
   "cell_type": "code",
   "execution_count": 25,
   "metadata": {},
   "outputs": [
    {
     "name": "stdout",
     "output_type": "stream",
     "text": [
      "active starts with a\n"
     ]
    }
   ],
   "source": [
    "word = 'active'\n",
    "if word[0] == 'a':\n",
    "    print(word, 'starts with a')\n",
    "elif word[0] == 'e':\n",
    "    print(word, 'starts with e')\n",
    "elif word[0] == 'i':\n",
    "    print(word, 'starts with i')\n",
    "elif word[0] == 'o':\n",
    "    print(word, 'starts with o')\n",
    "elif word[0] == 'u':\n",
    "    print(word, 'starts with u')\n",
    "else:\n",
    "    print(word, 'does not start with a, e, i, o or u')"
   ]
  },
  {
   "cell_type": "code",
   "execution_count": 26,
   "metadata": {},
   "outputs": [],
   "source": [
    "# Exercise\n",
    "# Read the file inflammation-01.csv as we did\n",
    "# in the previous days. Loop over the lines\n",
    "# and print it if the maximum number in the line is 20.\n",
    "# Tip: use range(data.shape[0]) to have a list of numbers\n",
    "# Tip: use data[0, :] to access the first line"
   ]
  },
  {
   "cell_type": "code",
   "execution_count": 27,
   "metadata": {},
   "outputs": [
    {
     "data": {
      "text/plain": [
       "array([[0., 0., 1., ..., 3., 0., 0.],\n",
       "       [0., 1., 2., ..., 1., 0., 1.],\n",
       "       [0., 1., 1., ..., 2., 1., 1.],\n",
       "       ...,\n",
       "       [0., 1., 1., ..., 1., 1., 1.],\n",
       "       [0., 0., 0., ..., 0., 2., 0.],\n",
       "       [0., 0., 1., ..., 1., 1., 0.]])"
      ]
     },
     "execution_count": 27,
     "metadata": {},
     "output_type": "execute_result"
    }
   ],
   "source": [
    "import numpy as np\n",
    "\n",
    "data = np.loadtxt(\n",
    "    fname='data/inflammation-01.csv',\n",
    "    delimiter=','\n",
    ")\n",
    "data"
   ]
  },
  {
   "cell_type": "code",
   "execution_count": 28,
   "metadata": {},
   "outputs": [
    {
     "data": {
      "text/plain": [
       "(60, 40)"
      ]
     },
     "execution_count": 28,
     "metadata": {},
     "output_type": "execute_result"
    }
   ],
   "source": [
    "data.shape"
   ]
  },
  {
   "cell_type": "code",
   "execution_count": 29,
   "metadata": {},
   "outputs": [
    {
     "data": {
      "text/plain": [
       "60"
      ]
     },
     "execution_count": 29,
     "metadata": {},
     "output_type": "execute_result"
    }
   ],
   "source": [
    "data.shape[0]  # this gives me the number of rows"
   ]
  },
  {
   "cell_type": "code",
   "execution_count": 30,
   "metadata": {},
   "outputs": [
    {
     "data": {
      "text/plain": [
       "range(0, 10)"
      ]
     },
     "execution_count": 30,
     "metadata": {},
     "output_type": "execute_result"
    }
   ],
   "source": [
    "range(10)"
   ]
  },
  {
   "cell_type": "code",
   "execution_count": 31,
   "metadata": {},
   "outputs": [
    {
     "name": "stdout",
     "output_type": "stream",
     "text": [
      "0\n",
      "1\n",
      "2\n",
      "3\n",
      "4\n",
      "5\n",
      "6\n",
      "7\n",
      "8\n",
      "9\n"
     ]
    }
   ],
   "source": [
    "for i in range(10):\n",
    "    print(i)"
   ]
  },
  {
   "cell_type": "code",
   "execution_count": 33,
   "metadata": {},
   "outputs": [
    {
     "name": "stdout",
     "output_type": "stream",
     "text": [
      "[ 0.  0.  1.  3.  1.  2.  4.  7.  8.  3.  3.  3. 10.  5.  7.  4.  7.  7.\n",
      " 12. 18.  6. 13. 11. 11.  7.  7.  4.  6.  8.  8.  4.  4.  5.  7.  3.  4.\n",
      "  2.  3.  0.  0.]\n",
      "[ 0.  1.  2.  1.  2.  1.  3.  2.  2.  6. 10. 11.  5.  9.  4.  4.  7. 16.\n",
      "  8.  6. 18.  4. 12.  5. 12.  7. 11.  5. 11.  3.  3.  5.  4.  4.  5.  5.\n",
      "  1.  1.  0.  1.]\n",
      "[ 0.  1.  1.  3.  3.  2.  6.  2.  5.  9.  5.  7.  4.  5.  4. 15.  5. 11.\n",
      "  9. 10. 19. 14. 12. 17.  7. 12. 11.  7.  4.  2. 10.  5.  4.  2.  2.  3.\n",
      "  2.  2.  1.  1.]\n",
      "[ 0.  0.  2.  0.  4.  2.  2.  1.  6.  7. 10.  7.  9. 13.  8.  8. 15. 10.\n",
      " 10.  7. 17.  4.  4.  7.  6. 15.  6.  4.  9. 11.  3.  5.  6.  3.  3.  4.\n",
      "  2.  3.  2.  1.]\n",
      "[ 0.  1.  1.  3.  3.  1.  3.  5.  2.  4.  4.  7.  6.  5.  3. 10.  8. 10.\n",
      "  6. 17.  9. 14.  9.  7. 13.  9. 12.  6.  7.  7.  9.  6.  3.  2.  2.  4.\n",
      "  2.  0.  1.  1.]\n"
     ]
    }
   ],
   "source": [
    "for i in range(data.shape[0]):\n",
    "    print(data[i, :])"
   ]
  },
  {
   "cell_type": "code",
   "execution_count": 36,
   "metadata": {},
   "outputs": [
    {
     "data": {
      "text/plain": [
       "18.0"
      ]
     },
     "execution_count": 36,
     "metadata": {},
     "output_type": "execute_result"
    }
   ],
   "source": [
    "np.max(data[0, :])  # max of first row"
   ]
  },
  {
   "cell_type": "code",
   "execution_count": 37,
   "metadata": {},
   "outputs": [
    {
     "data": {
      "text/plain": [
       "18.0"
      ]
     },
     "execution_count": 37,
     "metadata": {},
     "output_type": "execute_result"
    }
   ],
   "source": [
    "np.max(data[1, :]) # max of second row"
   ]
  },
  {
   "cell_type": "code",
   "execution_count": 38,
   "metadata": {},
   "outputs": [],
   "source": [
    "if np.max(data[0, :]) == 20:\n",
    "    print('first row has max equal 20')"
   ]
  },
  {
   "cell_type": "code",
   "execution_count": 39,
   "metadata": {},
   "outputs": [
    {
     "name": "stdout",
     "output_type": "stream",
     "text": [
      "Line 7 : [ 0.  0.  1.  2.  3.  1.  2.  3.  5.  3.  7.  8.  8.  5. 10.  9. 15. 11.\n",
      " 18. 19. 20.  8.  5. 13. 15. 10.  6. 10.  6.  7.  4.  9.  3.  5.  2.  5.\n",
      "  3.  2.  2.  1.]\n",
      "Line 28 : [ 0.  0.  2.  2.  3.  4.  6.  3.  7.  6.  4.  5.  8.  4.  7.  7.  6. 11.\n",
      " 12. 19. 20. 18.  9.  5.  4.  7. 14.  8.  4.  3.  7.  7.  8.  3.  5.  4.\n",
      "  1.  3.  1.  0.]\n",
      "Line 51 : [ 0.  1.  2.  2.  3.  5.  2.  4.  5.  6.  8.  3.  5.  4.  3. 15. 15. 12.\n",
      " 16.  7. 20. 15. 12.  8.  9.  6. 12.  5.  8.  3.  8.  5.  4.  1.  3.  2.\n",
      "  1.  3.  1.  0.]\n"
     ]
    }
   ],
   "source": [
    "import numpy as np\n",
    "\n",
    "data = np.loadtxt(\n",
    "    fname='data/inflammation-01.csv',\n",
    "    delimiter=','\n",
    ")\n",
    "for i in range(data.shape[0]):\n",
    "    data_row = data[i, :]\n",
    "    if np.max(data_row) == 20:\n",
    "        print('Line', i, ':', data_row)"
   ]
  },
  {
   "cell_type": "code",
   "execution_count": 40,
   "metadata": {},
   "outputs": [
    {
     "data": {
      "text/plain": [
       "True"
      ]
     },
     "execution_count": 40,
     "metadata": {},
     "output_type": "execute_result"
    }
   ],
   "source": [
    "# Boolean Logic\n",
    "True"
   ]
  },
  {
   "cell_type": "code",
   "execution_count": 41,
   "metadata": {},
   "outputs": [
    {
     "data": {
      "text/plain": [
       "False"
      ]
     },
     "execution_count": 41,
     "metadata": {},
     "output_type": "execute_result"
    }
   ],
   "source": [
    "False"
   ]
  },
  {
   "cell_type": "code",
   "execution_count": 42,
   "metadata": {},
   "outputs": [
    {
     "name": "stdout",
     "output_type": "stream",
     "text": [
      "This is true\n"
     ]
    }
   ],
   "source": [
    "if True:\n",
    "    print(\"This is true\")"
   ]
  },
  {
   "cell_type": "code",
   "execution_count": 43,
   "metadata": {},
   "outputs": [
    {
     "data": {
      "text/plain": [
       "True"
      ]
     },
     "execution_count": 43,
     "metadata": {},
     "output_type": "execute_result"
    }
   ],
   "source": [
    "True and True"
   ]
  },
  {
   "cell_type": "code",
   "execution_count": 44,
   "metadata": {},
   "outputs": [
    {
     "data": {
      "text/plain": [
       "False"
      ]
     },
     "execution_count": 44,
     "metadata": {},
     "output_type": "execute_result"
    }
   ],
   "source": [
    "False and True"
   ]
  },
  {
   "cell_type": "code",
   "execution_count": 45,
   "metadata": {},
   "outputs": [
    {
     "data": {
      "text/plain": [
       "False"
      ]
     },
     "execution_count": 45,
     "metadata": {},
     "output_type": "execute_result"
    }
   ],
   "source": [
    "True and False"
   ]
  },
  {
   "cell_type": "code",
   "execution_count": 46,
   "metadata": {},
   "outputs": [
    {
     "data": {
      "text/plain": [
       "False"
      ]
     },
     "execution_count": 46,
     "metadata": {},
     "output_type": "execute_result"
    }
   ],
   "source": [
    "False and False"
   ]
  },
  {
   "cell_type": "code",
   "execution_count": 48,
   "metadata": {},
   "outputs": [
    {
     "data": {
      "text/plain": [
       "True"
      ]
     },
     "execution_count": 48,
     "metadata": {},
     "output_type": "execute_result"
    }
   ],
   "source": [
    "True or True"
   ]
  },
  {
   "cell_type": "code",
   "execution_count": 49,
   "metadata": {},
   "outputs": [
    {
     "data": {
      "text/plain": [
       "True"
      ]
     },
     "execution_count": 49,
     "metadata": {},
     "output_type": "execute_result"
    }
   ],
   "source": [
    "True or False"
   ]
  },
  {
   "cell_type": "code",
   "execution_count": 50,
   "metadata": {},
   "outputs": [
    {
     "data": {
      "text/plain": [
       "True"
      ]
     },
     "execution_count": 50,
     "metadata": {},
     "output_type": "execute_result"
    }
   ],
   "source": [
    "False or True"
   ]
  },
  {
   "cell_type": "code",
   "execution_count": 51,
   "metadata": {},
   "outputs": [
    {
     "data": {
      "text/plain": [
       "False"
      ]
     },
     "execution_count": 51,
     "metadata": {},
     "output_type": "execute_result"
    }
   ],
   "source": [
    "False or False"
   ]
  },
  {
   "cell_type": "code",
   "execution_count": 52,
   "metadata": {},
   "outputs": [
    {
     "data": {
      "text/plain": [
       "True"
      ]
     },
     "execution_count": 52,
     "metadata": {},
     "output_type": "execute_result"
    }
   ],
   "source": [
    "1 < 10"
   ]
  },
  {
   "cell_type": "code",
   "execution_count": 53,
   "metadata": {},
   "outputs": [
    {
     "data": {
      "text/plain": [
       "True"
      ]
     },
     "execution_count": 53,
     "metadata": {},
     "output_type": "execute_result"
    }
   ],
   "source": [
    "1 < 10 or 1 > 100 "
   ]
  },
  {
   "cell_type": "code",
   "execution_count": 54,
   "metadata": {},
   "outputs": [
    {
     "name": "stdout",
     "output_type": "stream",
     "text": [
      "Line 0 : [ 0.  0.  1.  3.  1.  2.  4.  7.  8.  3.  3.  3. 10.  5.  7.  4.  7.  7.\n",
      " 12. 18.  6. 13. 11. 11.  7.  7.  4.  6.  8.  8.  4.  4.  5.  7.  3.  4.\n",
      "  2.  3.  0.  0.]\n",
      "Line 1 : [ 0.  1.  2.  1.  2.  1.  3.  2.  2.  6. 10. 11.  5.  9.  4.  4.  7. 16.\n",
      "  8.  6. 18.  4. 12.  5. 12.  7. 11.  5. 11.  3.  3.  5.  4.  4.  5.  5.\n",
      "  1.  1.  0.  1.]\n",
      "Line 2 : [ 0.  1.  1.  3.  3.  2.  6.  2.  5.  9.  5.  7.  4.  5.  4. 15.  5. 11.\n",
      "  9. 10. 19. 14. 12. 17.  7. 12. 11.  7.  4.  2. 10.  5.  4.  2.  2.  3.\n",
      "  2.  2.  1.  1.]\n",
      "Line 3 : [ 0.  0.  2.  0.  4.  2.  2.  1.  6.  7. 10.  7.  9. 13.  8.  8. 15. 10.\n",
      " 10.  7. 17.  4.  4.  7.  6. 15.  6.  4.  9. 11.  3.  5.  6.  3.  3.  4.\n",
      "  2.  3.  2.  1.]\n",
      "Line 4 : [ 0.  1.  1.  3.  3.  1.  3.  5.  2.  4.  4.  7.  6.  5.  3. 10.  8. 10.\n",
      "  6. 17.  9. 14.  9.  7. 13.  9. 12.  6.  7.  7.  9.  6.  3.  2.  2.  4.\n",
      "  2.  0.  1.  1.]\n",
      "Line 5 : [ 0.  0.  1.  2.  2.  4.  2.  1.  6.  4.  7.  6.  6.  9.  9. 15.  4. 16.\n",
      " 18. 12. 12.  5. 18.  9.  5.  3. 10.  3. 12.  7.  8.  4.  7.  3.  5.  4.\n",
      "  4.  3.  2.  1.]\n",
      "Line 6 : [ 0.  0.  2.  2.  4.  2.  2.  5.  5.  8.  6.  5. 11.  9.  4. 13.  5. 12.\n",
      " 10.  6.  9. 17. 15.  8.  9.  3. 13.  7.  8.  2.  8.  8.  4.  2.  3.  5.\n",
      "  4.  1.  1.  1.]\n",
      "Line 7 : [ 0.  0.  1.  2.  3.  1.  2.  3.  5.  3.  7.  8.  8.  5. 10.  9. 15. 11.\n",
      " 18. 19. 20.  8.  5. 13. 15. 10.  6. 10.  6.  7.  4.  9.  3.  5.  2.  5.\n",
      "  3.  2.  2.  1.]\n",
      "Line 8 : [ 0.  0.  0.  3.  1.  5.  6.  5.  5.  8.  2.  4. 11. 12. 10. 11.  9. 10.\n",
      " 17. 11.  6. 16. 12.  6.  8. 14.  6. 13. 10. 11.  4.  6.  4.  7.  6.  3.\n",
      "  2.  1.  0.  0.]\n",
      "Line 9 : [ 0.  1.  1.  2.  1.  3.  5.  3.  5.  8.  6.  8. 12.  5. 13.  6. 13.  8.\n",
      " 16.  8. 18. 15. 16. 14. 12.  7.  3.  8.  9. 11.  2.  5.  4.  5.  1.  4.\n",
      "  1.  2.  0.  0.]\n",
      "Line 10 : [ 0.  1.  0.  0.  4.  3.  3.  5.  5.  4.  5.  8.  7. 10. 13.  3.  7. 13.\n",
      " 15. 18.  8. 15. 15. 16. 11. 14. 12.  4. 10. 10.  4.  3.  4.  5.  5.  3.\n",
      "  3.  2.  2.  1.]\n",
      "Line 11 : [ 0.  1.  0.  0.  3.  4.  2.  7.  8.  5.  2.  8. 11.  5.  5.  8. 14. 11.\n",
      "  6. 11.  9. 16. 18.  6. 12.  5.  4.  3.  5.  7.  8.  3.  5.  4.  5.  5.\n",
      "  4.  0.  1.  1.]\n",
      "Line 12 : [ 0.  0.  2.  1.  4.  3.  6.  4.  6.  7.  9.  9.  3. 11.  6. 12.  4. 17.\n",
      " 13. 15. 13. 12.  8.  7.  4.  7. 12.  9.  5.  6.  5.  4.  7.  3.  5.  4.\n",
      "  2.  3.  0.  1.]\n",
      "Line 13 : [ 0.  0.  0.  0.  1.  3.  1.  6.  6.  5.  5.  6.  3.  6. 13.  3. 10. 13.\n",
      "  9. 16. 15.  9. 11.  4.  6.  4. 11. 11. 12.  3.  5.  8.  7.  4.  6.  4.\n",
      "  1.  3.  0.  0.]\n",
      "Line 14 : [ 0.  1.  2.  1.  1.  1.  4.  1.  5.  2.  3.  3. 10.  7. 13.  5.  7. 17.\n",
      "  6.  9. 12. 13. 10.  4. 12.  4.  6.  7.  6. 10.  8.  2.  5.  1.  3.  4.\n",
      "  2.  0.  2.  0.]\n",
      "Line 15 : [ 0.  1.  1.  0.  1.  2.  4.  3.  6.  4.  7.  5.  5.  7.  5. 10.  7.  8.\n",
      " 18. 17.  9.  8. 12. 11. 11. 11. 14.  6. 11.  2. 10.  9.  5.  6.  5.  3.\n",
      "  4.  2.  2.  0.]\n",
      "Line 16 : [ 0.  0.  0.  0.  2.  3.  6.  5.  7.  4.  3.  2. 10.  7.  9. 11. 12.  5.\n",
      " 12.  9. 13. 19. 14. 17.  5. 13.  8. 11.  5. 10.  9.  8.  7.  5.  3.  1.\n",
      "  4.  0.  2.  1.]\n",
      "Line 17 : [ 0.  0.  0.  1.  2.  1.  4.  3.  6.  7.  4.  2. 12.  6. 12.  4. 14.  7.\n",
      "  8. 14. 13. 19.  6.  9. 12.  6.  4. 13.  6.  7.  2.  3.  6.  5.  4.  2.\n",
      "  3.  0.  1.  0.]\n",
      "Line 18 : [ 0.  0.  2.  1.  2.  5.  4.  2.  7.  8.  4.  7. 11.  9.  8. 11. 15. 17.\n",
      " 11. 12.  7. 12.  7.  6.  7.  4. 13.  5.  7.  6.  6.  9.  2.  1.  1.  2.\n",
      "  2.  0.  1.  0.]\n",
      "Line 19 : [ 0.  1.  2.  0.  1.  4.  3.  2.  2.  7.  3.  3. 12. 13. 11. 13.  6.  5.\n",
      "  9. 16.  9. 19. 16. 11.  8.  9. 14. 12. 11.  9.  6.  6.  6.  1.  1.  2.\n",
      "  4.  3.  1.  1.]\n",
      "Line 20 : [ 0.  1.  1.  3.  1.  4.  4.  1.  8.  2.  2.  3. 12. 12. 10. 15. 13.  6.\n",
      "  5.  5. 18. 19.  9.  6. 11. 12.  7.  6.  3.  6.  3.  2.  4.  3.  1.  5.\n",
      "  4.  2.  2.  0.]\n",
      "Line 21 : [ 0.  0.  2.  3.  2.  3.  2.  6.  3.  8.  7.  4.  6.  6.  9.  5. 12. 12.\n",
      "  8.  5. 12. 10. 16.  7. 14. 12.  5.  4.  6.  9.  8.  5.  6.  6.  1.  4.\n",
      "  3.  0.  2.  0.]\n",
      "Line 22 : [ 0.  0.  0.  3.  4.  5.  1.  7.  7.  8.  2.  5. 12.  4. 10. 14.  5.  5.\n",
      " 17. 13. 16. 15. 13.  6. 12.  9. 10.  3.  3.  7.  4.  4.  8.  2.  6.  5.\n",
      "  1.  0.  1.  0.]\n",
      "Line 23 : [ 0.  1.  1.  1.  1.  3.  3.  2.  6.  3.  9.  7.  8.  8.  4. 13.  7. 14.\n",
      " 11. 15. 14. 13.  5. 13.  7. 14.  9. 10.  5. 11.  5.  3.  5.  1.  1.  4.\n",
      "  4.  1.  2.  0.]\n",
      "Line 24 : [ 0.  1.  1.  1.  2.  3.  5.  3.  6.  3.  7. 10.  3.  8. 12.  4. 12.  9.\n",
      " 15.  5. 17. 16.  5. 10. 10. 15.  7.  5.  3. 11.  5.  5.  6.  1.  1.  1.\n",
      "  1.  0.  2.  1.]\n",
      "Line 25 : [ 0.  0.  2.  1.  3.  3.  2.  7.  4.  4.  3.  8. 12.  9. 12.  9.  5. 16.\n",
      "  8. 17.  7. 11. 14.  7. 13. 11.  7. 12. 12.  7.  8.  5.  7.  2.  2.  4.\n",
      "  1.  1.  1.  0.]\n",
      "Line 26 : [ 0.  0.  1.  2.  4.  2.  2.  3.  5.  7. 10.  5.  5. 12.  3. 13.  4. 13.\n",
      "  7. 15.  9. 12. 18. 14. 16. 12.  3. 11.  3.  2.  7.  4.  8.  2.  2.  1.\n",
      "  3.  0.  1.  1.]\n",
      "Line 27 : [ 0.  0.  1.  1.  1.  5.  1.  5.  2.  2.  4. 10.  4.  8. 14.  6. 15.  6.\n",
      " 12. 15. 15. 13.  7. 17.  4.  5. 11.  4.  8.  7.  9.  4.  5.  3.  2.  5.\n",
      "  4.  3.  2.  1.]\n",
      "Line 28 : [ 0.  0.  2.  2.  3.  4.  6.  3.  7.  6.  4.  5.  8.  4.  7.  7.  6. 11.\n",
      " 12. 19. 20. 18.  9.  5.  4.  7. 14.  8.  4.  3.  7.  7.  8.  3.  5.  4.\n",
      "  1.  3.  1.  0.]\n",
      "Line 29 : [ 0.  0.  0.  1.  4.  4.  6.  3.  8.  6.  4. 10. 12.  3.  3.  6.  8.  7.\n",
      " 17. 16. 14. 15. 17.  4. 14. 13.  4.  4. 12. 11.  6.  9.  5.  5.  2.  5.\n",
      "  2.  1.  0.  1.]\n",
      "Line 30 : [ 0.  1.  1.  0.  3.  2.  4.  6.  8.  6.  2.  3. 11.  3. 14. 14. 12.  8.\n",
      "  8. 16. 13.  7.  6.  9. 15.  7.  6.  4. 10.  8. 10.  4.  2.  6.  5.  5.\n",
      "  2.  3.  2.  1.]\n",
      "Line 31 : [ 0.  0.  2.  3.  3.  4.  5.  3.  6.  7. 10.  5. 10. 13. 14.  3.  8. 10.\n",
      "  9.  9. 19. 15. 15.  6.  8.  8. 11.  5.  5.  7.  3.  6.  6.  4.  5.  2.\n",
      "  2.  3.  0.  0.]\n",
      "Line 32 : [ 0.  1.  2.  2.  2.  3.  6.  6.  6.  7.  6.  3. 11. 12. 13. 15. 15. 10.\n",
      " 14. 11. 11.  8.  6. 12. 10.  5. 12.  7.  7. 11.  5.  8.  5.  2.  5.  5.\n",
      "  2.  0.  2.  1.]\n",
      "Line 33 : [ 0.  0.  2.  1.  3.  5.  6.  7.  5.  8.  9.  3. 12. 10. 12.  4. 12.  9.\n",
      " 13. 10. 10.  6. 10. 11.  4. 15. 13.  7.  3.  4.  2.  9.  7.  2.  4.  2.\n",
      "  1.  2.  1.  1.]\n",
      "Line 34 : [ 0.  0.  1.  2.  4.  1.  5.  5.  2.  3.  4.  8.  8. 12.  5. 15.  9. 17.\n",
      "  7. 19. 14. 18. 12. 17. 14.  4. 13. 13.  8. 11.  5.  6.  6.  2.  3.  5.\n",
      "  2.  1.  1.  1.]\n",
      "Line 35 : [ 0.  0.  0.  3.  1.  3.  6.  4.  3.  4.  8.  3.  4.  8.  3. 11.  5.  7.\n",
      " 10.  5. 15.  9. 16. 17. 16.  3.  8.  9.  8.  3.  3.  9.  5.  1.  6.  5.\n",
      "  4.  2.  2.  0.]\n",
      "Line 36 : [ 0.  1.  2.  2.  2.  5.  5.  1.  4.  6.  3.  6.  5.  9.  6.  7.  4.  7.\n",
      " 16.  7. 16. 13.  9. 16. 12.  6.  7.  9. 10.  3.  6.  4.  5.  4.  6.  3.\n",
      "  4.  3.  2.  1.]\n",
      "Line 37 : [ 0.  1.  1.  2.  3.  1.  5.  1.  2.  2.  5.  7.  6.  6.  5. 10.  6.  7.\n",
      " 17. 13. 15. 16. 17. 14.  4.  4. 10. 10. 10. 11.  9.  9.  5.  4.  4.  2.\n",
      "  1.  0.  1.  0.]\n",
      "Line 38 : [ 0.  1.  0.  3.  2.  4.  1.  1.  5.  9. 10.  7. 12. 10.  9. 15. 12. 13.\n",
      " 13.  6. 19.  9. 10.  6. 13.  5. 13.  6.  7.  2.  5.  5.  2.  1.  1.  1.\n",
      "  1.  3.  0.  1.]\n",
      "Line 39 : [ 0.  1.  1.  3.  1.  1.  5.  5.  3.  7.  2.  2.  3. 12.  4.  6.  8. 15.\n",
      " 16. 16. 15.  4. 14.  5. 13. 10.  7. 10.  6.  3.  2.  3.  6.  3.  3.  5.\n",
      "  4.  3.  2.  1.]\n",
      "Line 40 : [ 0.  0.  0.  2.  2.  1.  3.  4.  5.  5.  6.  5.  5. 12. 13.  5.  7.  5.\n",
      " 11. 15. 18.  7.  9. 10. 14. 12. 11.  9. 10.  3.  2.  9.  6.  2.  2.  5.\n",
      "  3.  0.  0.  1.]\n",
      "Line 41 : [ 0.  0.  1.  3.  3.  1.  2.  1.  8.  9.  2.  8. 10.  3.  8.  6. 10. 13.\n",
      " 11. 17. 19.  6.  4. 11.  6. 12.  7.  5.  5.  4.  4.  8.  2.  6.  6.  4.\n",
      "  2.  2.  0.  0.]\n",
      "Line 42 : [ 0.  1.  1.  3.  4.  5.  2.  1.  3.  7.  9.  6. 10.  5.  8. 15. 11. 12.\n",
      " 15.  6. 12. 16.  6.  4. 14.  3. 12.  9.  6. 11.  5.  8.  5.  5.  6.  1.\n",
      "  2.  1.  2.  0.]\n",
      "Line 43 : [ 0.  0.  1.  3.  1.  4.  3.  6.  7.  8.  5.  7. 11.  3.  6. 11.  6. 10.\n",
      "  6. 19. 18. 14.  6. 10.  7.  9.  8.  5.  8.  3. 10.  2.  5.  1.  5.  4.\n",
      "  2.  1.  0.  1.]\n",
      "Line 44 : [ 0.  1.  1.  3.  3.  4.  4.  6.  3.  4.  9.  9.  7.  6.  8. 15. 12. 15.\n",
      "  6. 11.  6. 18.  5. 14. 15. 12.  9.  8.  3.  6. 10.  6.  8.  7.  2.  5.\n",
      "  4.  3.  1.  1.]\n",
      "Line 45 : [ 0.  1.  2.  2.  4.  3.  1.  4.  8.  9.  5. 10. 10.  3.  4.  6.  7. 11.\n",
      " 16.  6. 14.  9. 11. 10. 10.  7. 10.  8.  8.  4.  5.  8.  4.  4.  5.  2.\n",
      "  4.  1.  1.  0.]\n",
      "Line 46 : [ 0.  0.  2.  3.  4.  5.  4.  6.  2.  9.  7.  4.  9. 10.  8. 11. 16. 12.\n",
      " 15. 17. 19. 10. 18. 13. 15. 11.  8.  4.  7. 11.  6.  7.  6.  5.  1.  3.\n",
      "  1.  0.  0.  0.]\n",
      "Line 47 : [ 0.  1.  1.  3.  1.  4.  6.  2.  8.  2. 10.  3. 11.  9. 13. 15.  5. 15.\n",
      "  6. 10. 10.  5. 14. 15. 12.  7.  4.  5. 11.  4.  6.  9.  5.  6.  1.  1.\n",
      "  2.  1.  2.  1.]\n",
      "Line 48 : [ 0.  0.  1.  3.  2.  5.  1.  2.  7.  6.  6.  3. 12.  9.  4. 14.  4.  6.\n",
      " 12.  9. 12.  7. 11.  7. 16.  8. 13.  6.  7.  6. 10.  7.  6.  3.  1.  5.\n",
      "  4.  3.  0.  0.]\n",
      "Line 49 : [ 0.  0.  1.  2.  3.  4.  5.  7.  5.  4. 10.  5. 12. 12.  5.  4.  7.  9.\n",
      " 18. 16. 16. 10. 15. 15. 10.  4.  3.  7.  5.  9.  4.  6.  2.  4.  1.  4.\n",
      "  2.  2.  2.  1.]\n",
      "Line 50 : [ 0.  1.  2.  1.  1.  3.  5.  3.  6.  3. 10. 10. 11. 10. 13. 10. 13.  6.\n",
      "  6. 14.  5.  4.  5.  5.  9.  4. 12.  7.  7.  4.  7.  9.  3.  3.  6.  3.\n",
      "  4.  1.  2.  0.]\n",
      "Line 51 : [ 0.  1.  2.  2.  3.  5.  2.  4.  5.  6.  8.  3.  5.  4.  3. 15. 15. 12.\n",
      " 16.  7. 20. 15. 12.  8.  9.  6. 12.  5.  8.  3.  8.  5.  4.  1.  3.  2.\n",
      "  1.  3.  1.  0.]\n",
      "Line 52 : [ 0.  0.  0.  2.  4.  4.  5.  3.  3.  3. 10.  4.  4.  4. 14. 11. 15. 13.\n",
      " 10. 14. 11. 17.  9. 11. 11.  7. 10. 12. 10. 10. 10.  8.  7.  5.  2.  2.\n",
      "  4.  1.  2.  1.]\n",
      "Line 53 : [ 0.  0.  2.  1.  1.  4.  4.  7.  2.  9.  4. 10. 12.  7.  6.  6. 11. 12.\n",
      "  9. 15. 15.  6.  6. 13.  5. 12.  9.  6.  4.  7.  7.  6.  5.  4.  1.  4.\n",
      "  2.  2.  2.  1.]\n",
      "Line 54 : [ 0.  1.  2.  1.  1.  4.  5.  4.  4.  5.  9.  7. 10.  3. 13. 13.  8.  9.\n",
      " 17. 16. 16. 15. 12. 13.  5. 12. 10.  9. 11.  9.  4.  5.  5.  2.  2.  5.\n",
      "  1.  0.  0.  1.]\n",
      "Line 55 : [ 0.  0.  1.  3.  2.  3.  6.  4.  5.  7.  2.  4. 11. 11.  3.  8.  8. 16.\n",
      "  5. 13. 16.  5.  8.  8.  6.  9. 10. 10.  9.  3.  3.  5.  3.  5.  4.  5.\n",
      "  3.  3.  0.  1.]\n",
      "Line 56 : [ 0.  1.  1.  2.  2.  5.  1.  7.  4.  2.  5.  5.  4.  6.  6.  4. 16. 11.\n",
      " 14. 16. 14. 14.  8. 17.  4. 14. 13.  7.  6.  3.  7.  7.  5.  6.  3.  4.\n",
      "  2.  2.  1.  1.]\n",
      "Line 57 : [ 0.  1.  1.  1.  4.  1.  6.  4.  6.  3.  6.  5.  6.  4. 14. 13. 13.  9.\n",
      " 12. 19.  9. 10. 15. 10.  9. 10. 10.  7.  5.  6.  8.  6.  6.  4.  3.  5.\n",
      "  2.  1.  1.  1.]\n",
      "Line 58 : [ 0.  0.  0.  1.  4.  5.  6.  3.  8.  7.  9. 10.  8.  6.  5. 12. 15.  5.\n",
      " 10.  5.  8. 13. 18. 17. 14.  9. 13.  4. 10. 11. 10.  8.  8.  6.  5.  5.\n",
      "  2.  0.  2.  0.]\n",
      "Line 59 : [ 0.  0.  1.  0.  3.  2.  5.  4.  8.  2.  9.  3.  3. 10. 12.  9. 14. 11.\n",
      " 13.  8.  6. 18. 11.  9. 13. 11.  8.  5.  5.  2.  8.  5.  3.  5.  4.  1.\n",
      "  3.  1.  1.  0.]\n"
     ]
    }
   ],
   "source": [
    "# How would I change the previous exercise\n",
    "# to print the rows/lines that has the maximum equal 20\n",
    "# or the minimum equal to 0?\n",
    "import numpy as np\n",
    "\n",
    "data = np.loadtxt(\n",
    "    fname='data/inflammation-01.csv',\n",
    "    delimiter=','\n",
    ")\n",
    "for i in range(data.shape[0]):\n",
    "    data_row = data[i, :]\n",
    "    if np.max(data_row) == 20 or np.min(data_row) == 0:\n",
    "        print('Line', i, ':', data_row)"
   ]
  },
  {
   "cell_type": "code",
   "execution_count": 57,
   "metadata": {},
   "outputs": [],
   "source": [
    "# Functions\n",
    "\n",
    "def fahr_to_celsius(temp_fahr):\n",
    "    return ((temp_fahr - 32) * (5/9))"
   ]
  },
  {
   "cell_type": "code",
   "execution_count": 58,
   "metadata": {},
   "outputs": [
    {
     "data": {
      "text/plain": [
       "0.0"
      ]
     },
     "execution_count": 58,
     "metadata": {},
     "output_type": "execute_result"
    }
   ],
   "source": [
    "fahr_to_celsius(32)"
   ]
  },
  {
   "cell_type": "code",
   "execution_count": 59,
   "metadata": {},
   "outputs": [
    {
     "data": {
      "text/plain": [
       "100.0"
      ]
     },
     "execution_count": 59,
     "metadata": {},
     "output_type": "execute_result"
    }
   ],
   "source": [
    "fahr_to_celsius(212)"
   ]
  },
  {
   "cell_type": "code",
   "execution_count": 60,
   "metadata": {},
   "outputs": [],
   "source": [
    "def celsius_to_kelvin(temp_c):\n",
    "    return temp_c + 273.15"
   ]
  },
  {
   "cell_type": "code",
   "execution_count": 61,
   "metadata": {},
   "outputs": [
    {
     "data": {
      "text/plain": [
       "273.15"
      ]
     },
     "execution_count": 61,
     "metadata": {},
     "output_type": "execute_result"
    }
   ],
   "source": [
    "celsius_to_kelvin(0)"
   ]
  },
  {
   "cell_type": "code",
   "execution_count": 62,
   "metadata": {},
   "outputs": [],
   "source": [
    "# How can you do a function that convert from fahrents\n",
    "# to kelvin using the two previous functions?\n",
    "def fahr_to_kelvin(temp_fahr):\n",
    "    # Write your function here\n",
    "    temp_celsius = fahr_to_celsius(temp_fahr)\n",
    "    temp_kelvin = celsius_to_kelvin(temp_celsius)\n",
    "    return temp_kelvin"
   ]
  },
  {
   "cell_type": "code",
   "execution_count": 63,
   "metadata": {},
   "outputs": [
    {
     "data": {
      "text/plain": [
       "273.15"
      ]
     },
     "execution_count": 63,
     "metadata": {},
     "output_type": "execute_result"
    }
   ],
   "source": [
    "fahr_to_kelvin(32)"
   ]
  },
  {
   "cell_type": "code",
   "execution_count": 64,
   "metadata": {},
   "outputs": [],
   "source": [
    "def fahr_to_kelvin(temp_fahr):\n",
    "    return celsius_to_kelvin(\n",
    "        fahr_to_celsius(temp_fahr)\n",
    "    )"
   ]
  },
  {
   "cell_type": "code",
   "execution_count": 65,
   "metadata": {},
   "outputs": [],
   "source": [
    "# Exercise\n",
    "# Write one function called inflamation_to_visualisation\n",
    "# that has as argument the name of one file\n",
    "# and create the visualisation of the max value\n",
    "# of each column.\n",
    "# Tip: use np.max(data, axis=0) for the max value\n",
    "def inflammation_to_visualisation(filename):\n",
    "    import numpy as np\n",
    "    import matplotlib.pyplot as plt\n",
    "    \n",
    "    data = np.loadtxt(\n",
    "        fname=filename,\n",
    "        delimiter=','\n",
    "    )\n",
    "    \n",
    "    plt.plot(\n",
    "        np.max(\n",
    "            data,\n",
    "            axis=0\n",
    "        )\n",
    "    )\n",
    "    \n",
    "    plt.show()"
   ]
  },
  {
   "cell_type": "code",
   "execution_count": 67,
   "metadata": {
    "scrolled": true
   },
   "outputs": [
    {
     "data": {
      "image/png": "[encoded data removed]",
      "text/plain": [
       "<Figure size 432x288 with 1 Axes>"
      ]
     },
     "metadata": {
      "needs_background": "light"
     },
     "output_type": "display_data"
    }
   ],
   "source": [
    "%matplotlib inline\n",
    "inflammation_to_visualisation('data/inflammation-01.csv')"
   ]
  },
  {
   "cell_type": "code",
   "execution_count": null,
   "metadata": {},
   "outputs": [],
   "source": [
    "# Exercise\n",
    "# Create a function call\n",
    "# inflammation_to_visualisation_by_number\n",
    "# that receives a number and create the visualisation\n",
    "# for the file that has the number provided.\n",
    "# You must check that the number is between 1 and 12.\n",
    "def inflammation_to_visualisation_by_number(number):\n",
    "    # Write your if-clause\n",
    "    inflammation_to_visualisation() # Compose the filename\n",
    "    "
   ]
  },
  {
   "cell_type": "code",
   "execution_count": 68,
   "metadata": {},
   "outputs": [
    {
     "data": {
      "text/plain": [
       "'ab'"
      ]
     },
     "execution_count": 68,
     "metadata": {},
     "output_type": "execute_result"
    }
   ],
   "source": [
    "'a' + \"b\""
   ]
  },
  {
   "cell_type": "code",
   "execution_count": 69,
   "metadata": {},
   "outputs": [
    {
     "ename": "TypeError",
     "evalue": "can only concatenate str (not \"int\") to str",
     "output_type": "error",
     "traceback": [
      "\u001b[1;31m---------------------------------------------------------------------------\u001b[0m",
      "\u001b[1;31mTypeError\u001b[0m                                 Traceback (most recent call last)",
      "\u001b[1;32m<ipython-input-69-38b04e47e1f3>\u001b[0m in \u001b[0;36m<module>\u001b[1;34m\u001b[0m\n\u001b[1;32m----> 1\u001b[1;33m \u001b[1;34m'data/inflammation-'\u001b[0m \u001b[1;33m+\u001b[0m \u001b[1;36m1\u001b[0m \u001b[1;33m+\u001b[0m \u001b[1;34m'.csv'\u001b[0m\u001b[1;33m\u001b[0m\u001b[1;33m\u001b[0m\u001b[0m\n\u001b[0m",
      "\u001b[1;31mTypeError\u001b[0m: can only concatenate str (not \"int\") to str"
     ]
    }
   ],
   "source": [
    "'data/inflammation-' + 1 + '.csv'"
   ]
  },
  {
   "cell_type": "code",
   "execution_count": 70,
   "metadata": {},
   "outputs": [
    {
     "data": {
      "text/plain": [
       "'data/inflammation-1.csv'"
      ]
     },
     "execution_count": 70,
     "metadata": {},
     "output_type": "execute_result"
    }
   ],
   "source": [
    "'data/inflammation-' + str(1) + '.csv'"
   ]
  },
  {
   "cell_type": "code",
   "execution_count": 71,
   "metadata": {},
   "outputs": [
    {
     "data": {
      "text/plain": [
       "'data/inflammation-1.csv'"
      ]
     },
     "execution_count": 71,
     "metadata": {},
     "output_type": "execute_result"
    }
   ],
   "source": [
    "'data/inflammation-{}.csv'.format(1)"
   ]
  },
  {
   "cell_type": "code",
   "execution_count": 73,
   "metadata": {},
   "outputs": [
    {
     "name": "stdout",
     "output_type": "stream",
     "text": [
      "2\n"
     ]
    }
   ],
   "source": [
    "number = 2\n",
    "if number >= 1 and number <= 12:\n",
    "    print(number)"
   ]
  },
  {
   "cell_type": "code",
   "execution_count": 74,
   "metadata": {},
   "outputs": [],
   "source": [
    "# Exercise\n",
    "# Create a function call\n",
    "# inflammation_to_visualisation_by_number\n",
    "# that receives a number and create the visualisation\n",
    "# for the file that has the number provided.\n",
    "# You must check that the number is between 1 and 12.\n",
    "def inflammation_to_visualisation_by_number(number):\n",
    "    # Write your if-clause\n",
    "    if number >= 1 and number <= 12:\n",
    "        inflammation_to_visualisation(\n",
    "            'data/inflammation-' + str(number) + '.csv'\n",
    "        ) # Compose the filename\n",
    "    else:\n",
    "        print('Number out of range')"
   ]
  },
  {
   "cell_type": "code",
   "execution_count": 75,
   "metadata": {},
   "outputs": [
    {
     "data": {
      "image/png": "[encoded data removed]",
      "text/plain": [
       "<Figure size 432x288 with 1 Axes>"
      ]
     },
     "metadata": {
      "needs_background": "light"
     },
     "output_type": "display_data"
    }
   ],
   "source": [
    "inflammation_to_visualisation_by_number(12)"
   ]
  },
  {
   "cell_type": "code",
   "execution_count": 76,
   "metadata": {},
   "outputs": [
    {
     "ename": "OSError",
     "evalue": "data/inflammation-2.csv not found.",
     "output_type": "error",
     "traceback": [
      "\u001b[1;31m---------------------------------------------------------------------------\u001b[0m",
      "\u001b[1;31mOSError\u001b[0m                                   Traceback (most recent call last)",
      "\u001b[1;32m<ipython-input-76-271bf26d84d2>\u001b[0m in \u001b[0;36m<module>\u001b[1;34m\u001b[0m\n\u001b[1;32m----> 1\u001b[1;33m \u001b[0minflammation_to_visualisation_by_number\u001b[0m\u001b[1;33m(\u001b[0m\u001b[1;36m2\u001b[0m\u001b[1;33m)\u001b[0m\u001b[1;33m\u001b[0m\u001b[1;33m\u001b[0m\u001b[0m\n\u001b[0m",
      "\u001b[1;32m<ipython-input-74-63f79c7bb283>\u001b[0m in \u001b[0;36minflammation_to_visualisation_by_number\u001b[1;34m(number)\u001b[0m\n\u001b[0;32m      9\u001b[0m     \u001b[1;32mif\u001b[0m \u001b[0mnumber\u001b[0m \u001b[1;33m>=\u001b[0m \u001b[1;36m1\u001b[0m \u001b[1;32mand\u001b[0m \u001b[0mnumber\u001b[0m \u001b[1;33m<=\u001b[0m \u001b[1;36m12\u001b[0m\u001b[1;33m:\u001b[0m\u001b[1;33m\u001b[0m\u001b[1;33m\u001b[0m\u001b[0m\n\u001b[0;32m     10\u001b[0m         inflammation_to_visualisation(\n\u001b[1;32m---> 11\u001b[1;33m             \u001b[1;34m'data/inflammation-'\u001b[0m \u001b[1;33m+\u001b[0m \u001b[0mstr\u001b[0m\u001b[1;33m(\u001b[0m\u001b[0mnumber\u001b[0m\u001b[1;33m)\u001b[0m \u001b[1;33m+\u001b[0m \u001b[1;34m'.csv'\u001b[0m\u001b[1;33m\u001b[0m\u001b[1;33m\u001b[0m\u001b[0m\n\u001b[0m\u001b[0;32m     12\u001b[0m         ) # Compose the filename\n\u001b[0;32m     13\u001b[0m     \u001b[1;32melse\u001b[0m\u001b[1;33m:\u001b[0m\u001b[1;33m\u001b[0m\u001b[1;33m\u001b[0m\u001b[0m\n",
      "\u001b[1;32m<ipython-input-65-d192e2942d0e>\u001b[0m in \u001b[0;36minflammation_to_visualisation\u001b[1;34m(filename)\u001b[0m\n\u001b[0;32m     11\u001b[0m     data = np.loadtxt(\n\u001b[0;32m     12\u001b[0m         \u001b[0mfname\u001b[0m\u001b[1;33m=\u001b[0m\u001b[0mfilename\u001b[0m\u001b[1;33m,\u001b[0m\u001b[1;33m\u001b[0m\u001b[1;33m\u001b[0m\u001b[0m\n\u001b[1;32m---> 13\u001b[1;33m         \u001b[0mdelimiter\u001b[0m\u001b[1;33m=\u001b[0m\u001b[1;34m','\u001b[0m\u001b[1;33m\u001b[0m\u001b[1;33m\u001b[0m\u001b[0m\n\u001b[0m\u001b[0;32m     14\u001b[0m     )\n\u001b[0;32m     15\u001b[0m \u001b[1;33m\u001b[0m\u001b[0m\n",
      "\u001b[1;32m~\\Anaconda3\\lib\\site-packages\\numpy\\lib\\npyio.py\u001b[0m in \u001b[0;36mloadtxt\u001b[1;34m(fname, dtype, comments, delimiter, converters, skiprows, usecols, unpack, ndmin, encoding, max_rows)\u001b[0m\n\u001b[0;32m    960\u001b[0m             \u001b[0mfname\u001b[0m \u001b[1;33m=\u001b[0m \u001b[0mos_fspath\u001b[0m\u001b[1;33m(\u001b[0m\u001b[0mfname\u001b[0m\u001b[1;33m)\u001b[0m\u001b[1;33m\u001b[0m\u001b[1;33m\u001b[0m\u001b[0m\n\u001b[0;32m    961\u001b[0m         \u001b[1;32mif\u001b[0m \u001b[0m_is_string_like\u001b[0m\u001b[1;33m(\u001b[0m\u001b[0mfname\u001b[0m\u001b[1;33m)\u001b[0m\u001b[1;33m:\u001b[0m\u001b[1;33m\u001b[0m\u001b[1;33m\u001b[0m\u001b[0m\n\u001b[1;32m--> 962\u001b[1;33m             \u001b[0mfh\u001b[0m \u001b[1;33m=\u001b[0m \u001b[0mnp\u001b[0m\u001b[1;33m.\u001b[0m\u001b[0mlib\u001b[0m\u001b[1;33m.\u001b[0m\u001b[0m_datasource\u001b[0m\u001b[1;33m.\u001b[0m\u001b[0mopen\u001b[0m\u001b[1;33m(\u001b[0m\u001b[0mfname\u001b[0m\u001b[1;33m,\u001b[0m \u001b[1;34m'rt'\u001b[0m\u001b[1;33m,\u001b[0m \u001b[0mencoding\u001b[0m\u001b[1;33m=\u001b[0m\u001b[0mencoding\u001b[0m\u001b[1;33m)\u001b[0m\u001b[1;33m\u001b[0m\u001b[1;33m\u001b[0m\u001b[0m\n\u001b[0m\u001b[0;32m    963\u001b[0m             \u001b[0mfencoding\u001b[0m \u001b[1;33m=\u001b[0m \u001b[0mgetattr\u001b[0m\u001b[1;33m(\u001b[0m\u001b[0mfh\u001b[0m\u001b[1;33m,\u001b[0m \u001b[1;34m'encoding'\u001b[0m\u001b[1;33m,\u001b[0m \u001b[1;34m'latin1'\u001b[0m\u001b[1;33m)\u001b[0m\u001b[1;33m\u001b[0m\u001b[1;33m\u001b[0m\u001b[0m\n\u001b[0;32m    964\u001b[0m             \u001b[0mfh\u001b[0m \u001b[1;33m=\u001b[0m \u001b[0miter\u001b[0m\u001b[1;33m(\u001b[0m\u001b[0mfh\u001b[0m\u001b[1;33m)\u001b[0m\u001b[1;33m\u001b[0m\u001b[1;33m\u001b[0m\u001b[0m\n",
      "\u001b[1;32m~\\Anaconda3\\lib\\site-packages\\numpy\\lib\\_datasource.py\u001b[0m in \u001b[0;36mopen\u001b[1;34m(path, mode, destpath, encoding, newline)\u001b[0m\n\u001b[0;32m    264\u001b[0m \u001b[1;33m\u001b[0m\u001b[0m\n\u001b[0;32m    265\u001b[0m     \u001b[0mds\u001b[0m \u001b[1;33m=\u001b[0m \u001b[0mDataSource\u001b[0m\u001b[1;33m(\u001b[0m\u001b[0mdestpath\u001b[0m\u001b[1;33m)\u001b[0m\u001b[1;33m\u001b[0m\u001b[1;33m\u001b[0m\u001b[0m\n\u001b[1;32m--> 266\u001b[1;33m     \u001b[1;32mreturn\u001b[0m \u001b[0mds\u001b[0m\u001b[1;33m.\u001b[0m\u001b[0mopen\u001b[0m\u001b[1;33m(\u001b[0m\u001b[0mpath\u001b[0m\u001b[1;33m,\u001b[0m \u001b[0mmode\u001b[0m\u001b[1;33m,\u001b[0m \u001b[0mencoding\u001b[0m\u001b[1;33m=\u001b[0m\u001b[0mencoding\u001b[0m\u001b[1;33m,\u001b[0m \u001b[0mnewline\u001b[0m\u001b[1;33m=\u001b[0m\u001b[0mnewline\u001b[0m\u001b[1;33m)\u001b[0m\u001b[1;33m\u001b[0m\u001b[1;33m\u001b[0m\u001b[0m\n\u001b[0m\u001b[0;32m    267\u001b[0m \u001b[1;33m\u001b[0m\u001b[0m\n\u001b[0;32m    268\u001b[0m \u001b[1;33m\u001b[0m\u001b[0m\n",
      "\u001b[1;32m~\\Anaconda3\\lib\\site-packages\\numpy\\lib\\_datasource.py\u001b[0m in \u001b[0;36mopen\u001b[1;34m(self, path, mode, encoding, newline)\u001b[0m\n\u001b[0;32m    622\u001b[0m                                       encoding=encoding, newline=newline)\n\u001b[0;32m    623\u001b[0m         \u001b[1;32melse\u001b[0m\u001b[1;33m:\u001b[0m\u001b[1;33m\u001b[0m\u001b[1;33m\u001b[0m\u001b[0m\n\u001b[1;32m--> 624\u001b[1;33m             \u001b[1;32mraise\u001b[0m \u001b[0mIOError\u001b[0m\u001b[1;33m(\u001b[0m\u001b[1;34m\"%s not found.\"\u001b[0m \u001b[1;33m%\u001b[0m \u001b[0mpath\u001b[0m\u001b[1;33m)\u001b[0m\u001b[1;33m\u001b[0m\u001b[1;33m\u001b[0m\u001b[0m\n\u001b[0m\u001b[0;32m    625\u001b[0m \u001b[1;33m\u001b[0m\u001b[0m\n\u001b[0;32m    626\u001b[0m \u001b[1;33m\u001b[0m\u001b[0m\n",
      "\u001b[1;31mOSError\u001b[0m: data/inflammation-2.csv not found."
     ]
    }
   ],
   "source": [
    "inflammation_to_visualisation_by_number(2)"
   ]
  },
  {
   "cell_type": "code",
   "execution_count": 77,
   "metadata": {},
   "outputs": [],
   "source": [
    "# Exercise\n",
    "# Create a function call\n",
    "# inflammation_to_visualisation_by_number\n",
    "# that receives a number and create the visualisation\n",
    "# for the file that has the number provided.\n",
    "# You must check that the number is between 1 and 12.\n",
    "def inflammation_to_visualisation_by_number(number):\n",
    "    # Write your if-clause\n",
    "    if number >= 1 and number <= 9:\n",
    "        inflammation_to_visualisation(\n",
    "            'data/inflammation-0' + str(number) + '.csv'\n",
    "        ) # Compose the filename\n",
    "    elif number >= 10 and number <= 12:\n",
    "        inflammation_to_visualisation(\n",
    "            'data/inflammation-' + str(number) + '.csv'\n",
    "        ) # Compose the filename\n",
    "    else:\n",
    "        print('Number out of range')"
   ]
  },
  {
   "cell_type": "code",
   "execution_count": 78,
   "metadata": {},
   "outputs": [
    {
     "data": {
      "image/png": "[encoded data removed]",
      "text/plain": [
       "<Figure size 432x288 with 1 Axes>"
      ]
     },
     "metadata": {
      "needs_background": "light"
     },
     "output_type": "display_data"
    }
   ],
   "source": [
    "inflammation_to_visualisation_by_number(2)"
   ]
  },
  {
   "cell_type": "code",
   "execution_count": 79,
   "metadata": {},
   "outputs": [],
   "source": [
    "def celsius_to_kelvin(temp_c):\n",
    "    return temp_c + 273.15"
   ]
  },
  {
   "cell_type": "code",
   "execution_count": 80,
   "metadata": {},
   "outputs": [
    {
     "data": {
      "text/plain": [
       "273.15"
      ]
     },
     "execution_count": 80,
     "metadata": {},
     "output_type": "execute_result"
    }
   ],
   "source": [
    "celsius_to_kelvin(0)"
   ]
  },
  {
   "cell_type": "code",
   "execution_count": 81,
   "metadata": {},
   "outputs": [
    {
     "ename": "TypeError",
     "evalue": "celsius_to_kelvin() missing 1 required positional argument: 'temp_c'",
     "output_type": "error",
     "traceback": [
      "\u001b[1;31m---------------------------------------------------------------------------\u001b[0m",
      "\u001b[1;31mTypeError\u001b[0m                                 Traceback (most recent call last)",
      "\u001b[1;32m<ipython-input-81-c6de38b6e135>\u001b[0m in \u001b[0;36m<module>\u001b[1;34m\u001b[0m\n\u001b[1;32m----> 1\u001b[1;33m \u001b[0mcelsius_to_kelvin\u001b[0m\u001b[1;33m(\u001b[0m\u001b[1;33m)\u001b[0m\u001b[1;33m\u001b[0m\u001b[1;33m\u001b[0m\u001b[0m\n\u001b[0m",
      "\u001b[1;31mTypeError\u001b[0m: celsius_to_kelvin() missing 1 required positional argument: 'temp_c'"
     ]
    }
   ],
   "source": [
    "celsius_to_kelvin()"
   ]
  },
  {
   "cell_type": "code",
   "execution_count": 82,
   "metadata": {},
   "outputs": [],
   "source": [
    "def celsius_to_kelvin(temp_c=0):  # 0 is the default value\n",
    "    return temp_c + 273.15"
   ]
  },
  {
   "cell_type": "code",
   "execution_count": 83,
   "metadata": {},
   "outputs": [
    {
     "data": {
      "text/plain": [
       "273.15"
      ]
     },
     "execution_count": 83,
     "metadata": {},
     "output_type": "execute_result"
    }
   ],
   "source": [
    "celsius_to_kelvin()"
   ]
  },
  {
   "cell_type": "code",
   "execution_count": 84,
   "metadata": {},
   "outputs": [
    {
     "data": {
      "text/plain": [
       "283.15"
      ]
     },
     "execution_count": 84,
     "metadata": {},
     "output_type": "execute_result"
    }
   ],
   "source": [
    "celsius_to_kelvin(10)"
   ]
  },
  {
   "cell_type": "code",
   "execution_count": 85,
   "metadata": {},
   "outputs": [],
   "source": [
    "# To change the inflammation_to_visualisation_number\n",
    "# function to have one default argument?\n",
    "def inflammation_to_visualisation_by_number(number=1):\n",
    "    # Write your if-clause\n",
    "    if number >= 1 and number <= 9:\n",
    "        inflammation_to_visualisation(\n",
    "            'data/inflammation-0' + str(number) + '.csv'\n",
    "        ) # Compose the filename\n",
    "    elif number >= 10 and number <= 12:\n",
    "        inflammation_to_visualisation(\n",
    "            'data/inflammation-' + str(number) + '.csv'\n",
    "        ) # Compose the filename\n",
    "    else:\n",
    "        print('Number out of range')"
   ]
  },
  {
   "cell_type": "code",
   "execution_count": 86,
   "metadata": {},
   "outputs": [
    {
     "name": "stdout",
     "output_type": "stream",
     "text": [
      "Help on function loadtxt in module numpy:\n",
      "\n",
      "loadtxt(fname, dtype=<class 'float'>, comments='#', delimiter=None, converters=None, skiprows=0, usecols=None, unpack=False, ndmin=0, encoding='bytes', max_rows=None)\n",
      "    Load data from a text file.\n",
      "    \n",
      "    Each row in the text file must have the same number of values.\n",
      "    \n",
      "    Parameters\n",
      "    ----------\n",
      "    fname : file, str, or pathlib.Path\n",
      "        File, filename, or generator to read.  If the filename extension is\n",
      "        ``.gz`` or ``.bz2``, the file is first decompressed. Note that\n",
      "        generators should return byte strings for Python 3k.\n",
      "    dtype : data-type, optional\n",
      "        Data-type of the resulting array; default: float.  If this is a\n",
      "        structured data-type, the resulting array will be 1-dimensional, and\n",
      "        each row will be interpreted as an element of the array.  In this\n",
      "        case, the number of columns used must match the number of fields in\n",
      "        the data-type.\n",
      "    comments : str or sequence of str, optional\n",
      "        The characters or list of characters used to indicate the start of a\n",
      "        comment. None implies no comments. For backwards compatibility, byte\n",
      "        strings will be decoded as 'latin1'. The default is '#'.\n",
      "    delimiter : str, optional\n",
      "        The string used to separate values. For backwards compatibility, byte\n",
      "        strings will be decoded as 'latin1'. The default is whitespace.\n",
      "    converters : dict, optional\n",
      "        A dictionary mapping column number to a function that will parse the\n",
      "        column string into the desired value.  E.g., if column 0 is a date\n",
      "        string: ``converters = {0: datestr2num}``.  Converters can also be\n",
      "        used to provide a default value for missing data (but see also\n",
      "        `genfromtxt`): ``converters = {3: lambda s: float(s.strip() or 0)}``.\n",
      "        Default: None.\n",
      "    skiprows : int, optional\n",
      "        Skip the first `skiprows` lines; default: 0.\n",
      "    usecols : int or sequence, optional\n",
      "        Which columns to read, with 0 being the first. For example,\n",
      "        ``usecols = (1,4,5)`` will extract the 2nd, 5th and 6th columns.\n",
      "        The default, None, results in all columns being read.\n",
      "    \n",
      "        .. versionchanged:: 1.11.0\n",
      "            When a single column has to be read it is possible to use\n",
      "            an integer instead of a tuple. E.g ``usecols = 3`` reads the\n",
      "            fourth column the same way as ``usecols = (3,)`` would.\n",
      "    unpack : bool, optional\n",
      "        If True, the returned array is transposed, so that arguments may be\n",
      "        unpacked using ``x, y, z = loadtxt(...)``.  When used with a structured\n",
      "        data-type, arrays are returned for each field.  Default is False.\n",
      "    ndmin : int, optional\n",
      "        The returned array will have at least `ndmin` dimensions.\n",
      "        Otherwise mono-dimensional axes will be squeezed.\n",
      "        Legal values: 0 (default), 1 or 2.\n",
      "    \n",
      "        .. versionadded:: 1.6.0\n",
      "    encoding : str, optional\n",
      "        Encoding used to decode the inputfile. Does not apply to input streams.\n",
      "        The special value 'bytes' enables backward compatibility workarounds\n",
      "        that ensures you receive byte arrays as results if possible and passes\n",
      "        'latin1' encoded strings to converters. Override this value to receive\n",
      "        unicode arrays and pass strings as input to converters.  If set to None\n",
      "        the system default is used. The default value is 'bytes'.\n",
      "    \n",
      "        .. versionadded:: 1.14.0\n",
      "    max_rows : int, optional\n",
      "        Read `max_rows` lines of content after `skiprows` lines. The default\n",
      "        is to read all the lines.\n",
      "    \n",
      "        .. versionadded:: 1.16.0\n",
      "    \n",
      "    Returns\n",
      "    -------\n",
      "    out : ndarray\n",
      "        Data read from the text file.\n",
      "    \n",
      "    See Also\n",
      "    --------\n",
      "    load, fromstring, fromregex\n",
      "    genfromtxt : Load data with missing values handled as specified.\n",
      "    scipy.io.loadmat : reads MATLAB data files\n",
      "    \n",
      "    Notes\n",
      "    -----\n",
      "    This function aims to be a fast reader for simply formatted files.  The\n",
      "    `genfromtxt` function provides more sophisticated handling of, e.g.,\n",
      "    lines with missing values.\n",
      "    \n",
      "    .. versionadded:: 1.10.0\n",
      "    \n",
      "    The strings produced by the Python float.hex method can be used as\n",
      "    input for floats.\n",
      "    \n",
      "    Examples\n",
      "    --------\n",
      "    >>> from io import StringIO   # StringIO behaves like a file object\n",
      "    >>> c = StringIO(u\"0 1\\n2 3\")\n",
      "    >>> np.loadtxt(c)\n",
      "    array([[ 0.,  1.],\n",
      "           [ 2.,  3.]])\n",
      "    \n",
      "    >>> d = StringIO(u\"M 21 72\\nF 35 58\")\n",
      "    >>> np.loadtxt(d, dtype={'names': ('gender', 'age', 'weight'),\n",
      "    ...                      'formats': ('S1', 'i4', 'f4')})\n",
      "    array([('M', 21, 72.0), ('F', 35, 58.0)],\n",
      "          dtype=[('gender', '|S1'), ('age', '<i4'), ('weight', '<f4')])\n",
      "    \n",
      "    >>> c = StringIO(u\"1,0,2\\n3,0,4\")\n",
      "    >>> x, y = np.loadtxt(c, delimiter=',', usecols=(0, 2), unpack=True)\n",
      "    >>> x\n",
      "    array([ 1.,  3.])\n",
      "    >>> y\n",
      "    array([ 2.,  4.])\n",
      "\n"
     ]
    }
   ],
   "source": [
    "help(np.loadtxt)"
   ]
  },
  {
   "cell_type": "code",
   "execution_count": 87,
   "metadata": {},
   "outputs": [
    {
     "name": "stdout",
     "output_type": "stream",
     "text": [
      "Help on function celsius_to_kelvin in module __main__:\n",
      "\n",
      "celsius_to_kelvin(temp_c=0)\n",
      "\n"
     ]
    }
   ],
   "source": [
    "help(celsius_to_kelvin)"
   ]
  },
  {
   "cell_type": "code",
   "execution_count": 88,
   "metadata": {},
   "outputs": [],
   "source": [
    "def celsius_to_kelvin(temp_c=0):\n",
    "    \"\"\"Convert from Celsius to Kelvin. The default value is 0.\"\"\"\n",
    "    return temp + 273.15"
   ]
  },
  {
   "cell_type": "code",
   "execution_count": 89,
   "metadata": {},
   "outputs": [
    {
     "name": "stdout",
     "output_type": "stream",
     "text": [
      "Help on function celsius_to_kelvin in module __main__:\n",
      "\n",
      "celsius_to_kelvin(temp_c=0)\n",
      "    Convert from Celsius to Kelvin. The default value is 0.\n",
      "\n"
     ]
    }
   ],
   "source": [
    "help(celsius_to_kelvin)"
   ]
  },
  {
   "cell_type": "code",
   "execution_count": 90,
   "metadata": {},
   "outputs": [],
   "source": [
    "# Write a function rescale that takes an array as input\n",
    "# and returns a corresponding array of values scaled to\n",
    "# lie in the range 0.0 to 1.0\n",
    "# Hint: If L and H re the lowest and highest values\n",
    "# in the original array, then the replacement for a value v\n",
    "# should be (v - L) / (H - L) where v is your array.\n",
    "# Remember to document your code."
   ]
  },
  {
   "cell_type": "code",
   "execution_count": 95,
   "metadata": {},
   "outputs": [
    {
     "data": {
      "text/plain": [
       "array([ 0.,  0.,  1.,  3.,  1.,  2.,  4.,  7.,  8.,  3.,  3.,  3., 10.,\n",
       "        5.,  7.,  4.,  7.,  7., 12., 18.,  6., 13., 11., 11.,  7.,  7.,\n",
       "        4.,  6.,  8.,  8.,  4.,  4.,  5.,  7.,  3.,  4.,  2.,  3.,  0.,\n",
       "        0.])"
      ]
     },
     "execution_count": 95,
     "metadata": {},
     "output_type": "execute_result"
    }
   ],
   "source": [
    "v = data[0, :]\n",
    "v"
   ]
  },
  {
   "cell_type": "code",
   "execution_count": 96,
   "metadata": {},
   "outputs": [
    {
     "data": {
      "text/plain": [
       "array([ 1.,  1.,  2.,  4.,  2.,  3.,  5.,  8.,  9.,  4.,  4.,  4., 11.,\n",
       "        6.,  8.,  5.,  8.,  8., 13., 19.,  7., 14., 12., 12.,  8.,  8.,\n",
       "        5.,  7.,  9.,  9.,  5.,  5.,  6.,  8.,  4.,  5.,  3.,  4.,  1.,\n",
       "        1.])"
      ]
     },
     "execution_count": 96,
     "metadata": {},
     "output_type": "execute_result"
    }
   ],
   "source": [
    "v + 1"
   ]
  },
  {
   "cell_type": "code",
   "execution_count": 97,
   "metadata": {},
   "outputs": [
    {
     "data": {
      "text/plain": [
       "array([-1., -1.,  0.,  2.,  0.,  1.,  3.,  6.,  7.,  2.,  2.,  2.,  9.,\n",
       "        4.,  6.,  3.,  6.,  6., 11., 17.,  5., 12., 10., 10.,  6.,  6.,\n",
       "        3.,  5.,  7.,  7.,  3.,  3.,  4.,  6.,  2.,  3.,  1.,  2., -1.,\n",
       "       -1.])"
      ]
     },
     "execution_count": 97,
     "metadata": {},
     "output_type": "execute_result"
    }
   ],
   "source": [
    "v - 1"
   ]
  },
  {
   "cell_type": "code",
   "execution_count": 98,
   "metadata": {},
   "outputs": [
    {
     "data": {
      "text/plain": [
       "array([0. , 0. , 0.5, 1.5, 0.5, 1. , 2. , 3.5, 4. , 1.5, 1.5, 1.5, 5. ,\n",
       "       2.5, 3.5, 2. , 3.5, 3.5, 6. , 9. , 3. , 6.5, 5.5, 5.5, 3.5, 3.5,\n",
       "       2. , 3. , 4. , 4. , 2. , 2. , 2.5, 3.5, 1.5, 2. , 1. , 1.5, 0. ,\n",
       "       0. ])"
      ]
     },
     "execution_count": 98,
     "metadata": {},
     "output_type": "execute_result"
    }
   ],
   "source": [
    "v / 2"
   ]
  },
  {
   "cell_type": "code",
   "execution_count": 100,
   "metadata": {},
   "outputs": [
    {
     "data": {
      "text/plain": [
       "18.0"
      ]
     },
     "execution_count": 100,
     "metadata": {},
     "output_type": "execute_result"
    }
   ],
   "source": [
    "np.max(v)"
   ]
  },
  {
   "cell_type": "code",
   "execution_count": 101,
   "metadata": {},
   "outputs": [
    {
     "data": {
      "text/plain": [
       "0.0"
      ]
     },
     "execution_count": 101,
     "metadata": {},
     "output_type": "execute_result"
    }
   ],
   "source": [
    "np.min(v)"
   ]
  },
  {
   "cell_type": "code",
   "execution_count": 102,
   "metadata": {},
   "outputs": [],
   "source": [
    "# Write a function rescale that takes an array as input\n",
    "# and returns a corresponding array of values scaled to\n",
    "# lie in the range 0.0 to 1.0\n",
    "# Hint: If L and H re the lowest and highest values\n",
    "# in the original array, then the replacement for a value v\n",
    "# should be (v - L) / (H - L) where v is your array.\n",
    "# Remember to document your code.\n",
    "def rescale(v):\n",
    "    \"\"\"Rescale the vector v to the range 0.0 to 1.0\"\"\"\n",
    "    max_v = np.max(v)\n",
    "    min_v = np.min(v)\n",
    "    return (v - min_v) / (max_v - min_v)"
   ]
  },
  {
   "cell_type": "code",
   "execution_count": 103,
   "metadata": {},
   "outputs": [
    {
     "data": {
      "text/plain": [
       "array([0.        , 0.        , 0.05555556, 0.16666667, 0.05555556,\n",
       "       0.11111111, 0.22222222, 0.38888889, 0.44444444, 0.16666667,\n",
       "       0.16666667, 0.16666667, 0.55555556, 0.27777778, 0.38888889,\n",
       "       0.22222222, 0.38888889, 0.38888889, 0.66666667, 1.        ,\n",
       "       0.33333333, 0.72222222, 0.61111111, 0.61111111, 0.38888889,\n",
       "       0.38888889, 0.22222222, 0.33333333, 0.44444444, 0.44444444,\n",
       "       0.22222222, 0.22222222, 0.27777778, 0.38888889, 0.16666667,\n",
       "       0.22222222, 0.11111111, 0.16666667, 0.        , 0.        ])"
      ]
     },
     "execution_count": 103,
     "metadata": {},
     "output_type": "execute_result"
    }
   ],
   "source": [
    "rescale(v)"
   ]
  },
  {
   "cell_type": "code",
   "execution_count": 104,
   "metadata": {},
   "outputs": [],
   "source": [
    "v = [ 1, 2, 3, 4, 5]"
   ]
  },
  {
   "cell_type": "code",
   "execution_count": 105,
   "metadata": {},
   "outputs": [
    {
     "name": "stdout",
     "output_type": "stream",
     "text": [
      "Help on built-in function max in module builtins:\n",
      "\n",
      "max(...)\n",
      "    max(iterable, *[, default=obj, key=func]) -> value\n",
      "    max(arg1, arg2, *args, *[, key=func]) -> value\n",
      "    \n",
      "    With a single iterable argument, return its biggest item. The\n",
      "    default keyword-only argument specifies an object to return if\n",
      "    the provided iterable is empty.\n",
      "    With two or more arguments, return the largest argument.\n",
      "\n"
     ]
    }
   ],
   "source": [
    "help(max)"
   ]
  },
  {
   "cell_type": "code",
   "execution_count": 106,
   "metadata": {},
   "outputs": [
    {
     "data": {
      "text/plain": [
       "5"
      ]
     },
     "execution_count": 106,
     "metadata": {},
     "output_type": "execute_result"
    }
   ],
   "source": [
    "max(v)"
   ]
  },
  {
   "cell_type": "code",
   "execution_count": 107,
   "metadata": {},
   "outputs": [
    {
     "data": {
      "text/plain": [
       "1"
      ]
     },
     "execution_count": 107,
     "metadata": {},
     "output_type": "execute_result"
    }
   ],
   "source": [
    "min(v)"
   ]
  },
  {
   "cell_type": "code",
   "execution_count": 109,
   "metadata": {},
   "outputs": [
    {
     "data": {
      "text/plain": [
       "[1, 2, 3, 4, 5]"
      ]
     },
     "execution_count": 109,
     "metadata": {},
     "output_type": "execute_result"
    }
   ],
   "source": [
    "v"
   ]
  },
  {
   "cell_type": "code",
   "execution_count": 111,
   "metadata": {},
   "outputs": [],
   "source": [
    "def rescale(v):\n",
    "    \"\"\"Rescale list to values between 0.0 and 1.0\"\"\"\n",
    "    new_v = []\n",
    "    max_v = max(v)\n",
    "    min_v = min(v)\n",
    "    for i in v:\n",
    "        new_v.append((i - min_v) / (max_v - min_v))\n",
    "    \n",
    "    return new_v"
   ]
  },
  {
   "cell_type": "code",
   "execution_count": 112,
   "metadata": {},
   "outputs": [
    {
     "data": {
      "text/plain": [
       "[0.0, 0.25, 0.5, 0.75, 1.0]"
      ]
     },
     "execution_count": 112,
     "metadata": {},
     "output_type": "execute_result"
    }
   ],
   "source": [
    "rescale(v)"
   ]
  },
  {
   "cell_type": "code",
   "execution_count": null,
   "metadata": {},
   "outputs": [],
   "source": []
  }
 ],
 "metadata": {
  "kernelspec": {
   "display_name": "Python 3",
   "language": "python",
   "name": "python3"
  },
  "language_info": {
   "codemirror_mode": {
    "name": "ipython",
    "version": 3
   },
   "file_extension": ".py",
   "mimetype": "text/x-python",
   "name": "python",
   "nbconvert_exporter": "python",
   "pygments_lexer": "ipython3",
   "version": "3.7.3"
  }
 },
 "nbformat": 4,
 "nbformat_minor": 2
}
